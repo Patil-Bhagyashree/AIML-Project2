{
  "nbformat": 4,
  "nbformat_minor": 0,
  "metadata": {
    "colab": {
      "provenance": []
    },
    "kernelspec": {
      "name": "python3",
      "display_name": "Python 3"
    },
    "language_info": {
      "name": "python"
    }
  },
  "cells": [
    {
      "cell_type": "code",
      "execution_count": null,
      "metadata": {
        "colab": {
          "base_uri": "https://localhost:8080/"
        },
        "id": "Lr4a4Qf_5zjb",
        "outputId": "e780c213-9511-47a4-e9ab-717a9a8de771"
      },
      "outputs": [
        {
          "output_type": "stream",
          "name": "stdout",
          "text": [
            "Hello! I'm the College Admission Bot. What's your name?\n",
            "> Tina\n",
            "Nice to meet you, Tina! How can I help you with your college admission today?\n",
            "> undergraduate programs\n",
            "We offer a variety of undergraduate programs including Business, Engineering, Sciences, Arts, and Humanities. For a full list, please check our undergraduate programs catalog on our website.\n",
            "> application fee\n",
            "The application fee is $50, non-refundable.\n",
            "> admission deadline\n",
            "The application deadline for Fall 2024 is May 1st.\n",
            "> quit\n",
            "Thanks for chatting. Goodbye!\n"
          ]
        }
      ],
      "source": [
        "class CollegeAdmissionBot:\n",
        "    def __init__(self):\n",
        "        self.user_info = {\"name\": \"\", \"interest\": \"\"}\n",
        "        self.known_questions = {\n",
        "            \"admission requirements\": \"The admission requirements include a completed application form, your high school transcripts, SAT or ACT scores, and two letters of recommendation.\",\n",
        "            \"admission deadline\": \"The application deadline for Fall 2024 is May 1st.\",\n",
        "            \"application fee\": \"The application fee is $50, non-refundable.\",\n",
        "            \"scholarships available\": \"We offer a range of scholarships based on academic merit and financial need. For more details, visit our scholarships page.\",\n",
        "            \"undergraduate programs\": \"We offer a variety of undergraduate programs including Business, Engineering, Sciences, Arts, and Humanities. For a full list, please check our undergraduate programs catalog on our website.\",\n",
        "            \"campus tours\": \"Campus tours are available every weekday at 10 AM and 2 PM. Special arrangements can be made for weekend tours if contacted in advance.\",\n",
        "            \"student housing\": \"We have several student housing options ranging from dormitories to shared apartments. For more information, visit our housing section on the website.\",\n",
        "            \"international students\": \"International students are required to submit additional documents including proof of English language proficiency, a copy of their passport, and financial support documents. For a detailed checklist, please see our international admissions guide.\",\n",
        "            \"online courses\": \"Yes, we offer a range of online courses and degree programs. For more information, please visit our online education portal.\",\n",
        "            \"transfer students\": \"Transfer students are welcome! You'll need to submit your transcripts from previous institutions and a transfer application. Some programs may have additional requirements.\"\n",
        "        }\n",
        "\n",
        "    def greet_user(self):\n",
        "        print(\"Hello! I'm the College Admission Bot. What's your name?\")\n",
        "        self.user_info[\"name\"] = input(\"> \")\n",
        "        print(f\"Nice to meet you, {self.user_info['name']}! How can I help you with your college admission today?\")\n",
        "\n",
        "    def handle_query(self, query):\n",
        "        # Simple context handling: Check if asking again about a previously mentioned topic\n",
        "        if \"again\" in query and self.user_info[\"interest\"]:\n",
        "            response = self.known_questions.get(self.user_info[\"interest\"], \"Could you specify the topic again?\")\n",
        "            print(response)\n",
        "            return\n",
        "\n",
        "        for key in self.known_questions:\n",
        "            if key in query:\n",
        "                print(self.known_questions[key])\n",
        "                self.user_info[\"interest\"] = key\n",
        "                return\n",
        "        print(\"I'm sorry, I don't have information on that. Can you ask something else?\")\n",
        "\n",
        "    def chat(self):\n",
        "        self.greet_user()\n",
        "        while True:\n",
        "            query = input(\"> \").lower()\n",
        "            if query == \"quit\":\n",
        "                print(\"Thanks for chatting. Goodbye!\")\n",
        "                break\n",
        "            else:\n",
        "                self.handle_query(query)\n",
        "\n",
        "if __name__ == \"__main__\":\n",
        "    bot = CollegeAdmissionBot()\n",
        "    bot.chat()\n"
      ]
    }
  ]
}